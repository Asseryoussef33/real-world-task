{
 "cells": [
  {
   "cell_type": "code",
   "execution_count": 58,
   "id": "86b419d7-65f2-43bf-a55d-47991927c5fd",
   "metadata": {},
   "outputs": [],
   "source": [
    "import pandas as pd\n",
    "from sklearn.preprocessing import MinMaxScaler"
   ]
  },
  {
   "cell_type": "code",
   "execution_count": 70,
   "id": "77a49ec1-d43d-4e28-b557-b8dcd9a63c0d",
   "metadata": {},
   "outputs": [
    {
     "name": "stdout",
     "output_type": "stream",
     "text": [
      "   Store No.  Sales $m  Wages $m  No. Staff Location  Loc'n (Num) State  \\\n",
      "0          1      12.5       2.3         60     Mall            2   NSW   \n",
      "1          2      14.5       2.7         69     Mall            2   Vic   \n",
      "2          3      19.0       3.1         79  Country            3   Vic   \n",
      "3          4      18.2       2.6         66     Mall            2   Qld   \n",
      "4          5       7.6       2.0         51    Strip            1   Qld   \n",
      "\n",
      "   State (Num)  Age (Yrs)  GrossProfit  ...  Mng-Sex (Num)  Mng-Age  Mng-Exp  \\\n",
      "0            1         10        0.712  ...              0       33       12   \n",
      "1            2          8        0.091  ...              0       33       16   \n",
      "2            2          7        1.075  ...              0       30        9   \n",
      "3            3          7        1.372  ...              0       29        9   \n",
      "4            3         15        2.148  ...              0       36        4   \n",
      "\n",
      "  Mng-Train  Union% Car Spaces  HomeDel  HomeDel (Num)  Basket:2013  \\\n",
      "0         2      38         46   Del:No              0          171   \n",
      "1         1      38         73   Del:No              0          168   \n",
      "2         2      39         64   Del:No              0          180   \n",
      "3         2      38         66  Del:Yes              1          173   \n",
      "4         3      40         29   Del:No              0          166   \n",
      "\n",
      "   Basket:2014  \n",
      "0          178  \n",
      "1          178  \n",
      "2          188  \n",
      "3          180  \n",
      "4          171  \n",
      "\n",
      "[5 rows x 26 columns]\n",
      "['Store No.', 'Sales $m', 'Wages $m', 'No. Staff', 'Location', \"Loc'n (Num)\", 'State', 'State (Num)', 'Age (Yrs)', 'GrossProfit', \"Adv.$'000\", 'Competitors', 'HrsTrading', 'Sundays', 'Sundays (Num)', 'Mng-Sex', 'Mng-Sex (Num)', 'Mng-Age', 'Mng-Exp', 'Mng-Train', 'Union%', 'Car Spaces', 'HomeDel', 'HomeDel (Num)', 'Basket:2013', 'Basket:2014']\n"
     ]
    }
   ],
   "source": [
    "# Load the Excel dataset\n",
    "df = pd.read_excel(r\"C:\\Users\\asser\\OneDrive\\Desktop\\StoresData.xlsx\")\n",
    "\n",
    "# Display the first few rows to understand its structure\n",
    "print(df.head())\n",
    "print(df.columns.tolist())"
   ]
  },
  {
   "cell_type": "code",
   "execution_count": 62,
   "id": "44dff504-47b5-4ab2-b210-992589d4a331",
   "metadata": {},
   "outputs": [
    {
     "name": "stdout",
     "output_type": "stream",
     "text": [
      "Index(['Store No.', 'Sales $m', 'Wages $m', 'No. Staff', 'Location',\n",
      "       'Loc'n (Num)', 'State', 'State (Num)', 'Age (Yrs)', 'GrossProfit',\n",
      "       'Adv.$'000', 'Competitors', 'HrsTrading', 'Sundays', 'Sundays (Num)',\n",
      "       'Mng-Sex', 'Mng-Sex (Num)', 'Mng-Age', 'Mng-Exp', 'Mng-Train', 'Union%',\n",
      "       'Car Spaces', 'HomeDel', 'HomeDel (Num)', 'Basket:2013', 'Basket:2014'],\n",
      "      dtype='object')\n",
      "Store No.          int64\n",
      "Sales $m         float64\n",
      "Wages $m         float64\n",
      "No. Staff          int64\n",
      "Location          object\n",
      "Loc'n (Num)        int64\n",
      "State             object\n",
      "State (Num)        int64\n",
      "Age (Yrs)          int64\n",
      "GrossProfit      float64\n",
      "Adv.$'000          int64\n",
      "Competitors        int64\n",
      "HrsTrading         int64\n",
      "Sundays           object\n",
      "Sundays (Num)      int64\n",
      "Mng-Sex           object\n",
      "Mng-Sex (Num)      int64\n",
      "Mng-Age            int64\n",
      "Mng-Exp            int64\n",
      "Mng-Train          int64\n",
      "Union%             int64\n",
      "Car Spaces         int64\n",
      "HomeDel           object\n",
      "HomeDel (Num)      int64\n",
      "Basket:2013        int64\n",
      "Basket:2014        int64\n",
      "dtype: object\n"
     ]
    }
   ],
   "source": [
    "print(df.columns)\n",
    "print(df.dtypes)"
   ]
  },
  {
   "cell_type": "code",
   "execution_count": 72,
   "id": "81256973-ffc5-4b61-b314-49c822a344ba",
   "metadata": {},
   "outputs": [
    {
     "name": "stdout",
     "output_type": "stream",
     "text": [
      "['Store No.', 'Sales $m', 'Wages $m', 'No. Staff', 'Location', \"Loc'n (Num)\", 'State', 'State (Num)', 'Age (Yrs)', 'GrossProfit', \"Adv.$'000\", 'Competitors', 'HrsTrading', 'Sundays', 'Sundays (Num)', 'Mng-Sex', 'Mng-Sex (Num)', 'Mng-Age', 'Mng-Exp', 'Mng-Train', 'Union%', 'Car Spaces', 'HomeDel', 'HomeDel (Num)', 'Basket:2013', 'Basket:2014']\n"
     ]
    }
   ],
   "source": [
    "# Strip extra spaces from column names\n",
    "df.columns = df.columns.str.strip()\n",
    "print(df.columns.tolist())  # Confirm cleaned names"
   ]
  },
  {
   "cell_type": "code",
   "execution_count": 74,
   "id": "86f037cf-3341-45f2-b03f-8de5b1019bb0",
   "metadata": {},
   "outputs": [
    {
     "name": "stdout",
     "output_type": "stream",
     "text": [
      "Store No.        0\n",
      "Sales $m         0\n",
      "Wages $m         0\n",
      "No. Staff        0\n",
      "Location         0\n",
      "Loc'n (Num)      0\n",
      "State            0\n",
      "State (Num)      0\n",
      "Age (Yrs)        0\n",
      "GrossProfit      0\n",
      "Adv.$'000        0\n",
      "Competitors      0\n",
      "HrsTrading       0\n",
      "Sundays          0\n",
      "Sundays (Num)    0\n",
      "Mng-Sex          0\n",
      "Mng-Sex (Num)    0\n",
      "Mng-Age          0\n",
      "Mng-Exp          0\n",
      "Mng-Train        0\n",
      "Union%           0\n",
      "Car Spaces       0\n",
      "HomeDel          0\n",
      "HomeDel (Num)    0\n",
      "Basket:2013      0\n",
      "Basket:2014      0\n",
      "dtype: int64\n"
     ]
    }
   ],
   "source": [
    "# Check for missing values in each column\n",
    "print(df.isnull().sum())"
   ]
  },
  {
   "cell_type": "code",
   "execution_count": 76,
   "id": "d23eea3a-d8a0-49b3-9baf-f53615cd6442",
   "metadata": {},
   "outputs": [],
   "source": [
    "# Drop rows with missing values\n",
    "df = df.dropna()"
   ]
  },
  {
   "cell_type": "code",
   "execution_count": 84,
   "id": "66bdbf19-6e81-40e6-9612-df3a9cc9fcdd",
   "metadata": {},
   "outputs": [
    {
     "name": "stdout",
     "output_type": "stream",
     "text": [
      "   Sales $m  Normalized_Sales\n",
      "0      12.5          0.375000\n",
      "1      14.5          0.488636\n",
      "2      19.0          0.744318\n",
      "3      18.2          0.698864\n",
      "4       7.6          0.096591\n"
     ]
    }
   ],
   "source": [
    "scaler = MinMaxScaler()\n",
    "\n",
    "# Normalize the 'Sales $m' column\n",
    "df['Normalized_Sales'] = scaler.fit_transform(df[['Sales $m']])\n",
    "\n",
    "# Display original and normalized columns\n",
    "print(df[['Sales $m', 'Normalized_Sales']].head())"
   ]
  },
  {
   "cell_type": "code",
   "execution_count": 86,
   "id": "54a70a45-9b4d-4b42-a051-c9e58995c353",
   "metadata": {},
   "outputs": [
    {
     "name": "stdout",
     "output_type": "stream",
     "text": [
      "   Wages $m  Normalized_Wages\n",
      "0       2.3          0.333333\n",
      "1       2.7          0.500000\n",
      "2       3.1          0.666667\n",
      "3       2.6          0.458333\n",
      "4       2.0          0.208333\n"
     ]
    }
   ],
   "source": [
    "scaler = MinMaxScaler()\n",
    "\n",
    "# Normalize the 'Wages $m' column\n",
    "df['Normalized_Wages'] = scaler.fit_transform(df[['Wages $m']])\n",
    "\n",
    "# Display the original and normalized wages\n",
    "print(df[['Wages $m', 'Normalized_Wages']].head())"
   ]
  },
  {
   "cell_type": "code",
   "execution_count": null,
   "id": "1ebbf3d1-4398-4c7d-b0d6-8a5148eac3c6",
   "metadata": {},
   "outputs": [],
   "source": []
  }
 ],
 "metadata": {
  "kernelspec": {
   "display_name": "Python 3 (ipykernel)",
   "language": "python",
   "name": "python3"
  },
  "language_info": {
   "codemirror_mode": {
    "name": "ipython",
    "version": 3
   },
   "file_extension": ".py",
   "mimetype": "text/x-python",
   "name": "python",
   "nbconvert_exporter": "python",
   "pygments_lexer": "ipython3",
   "version": "3.12.7"
  }
 },
 "nbformat": 4,
 "nbformat_minor": 5
}
